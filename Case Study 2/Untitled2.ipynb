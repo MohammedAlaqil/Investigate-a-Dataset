{
 "cells": [
  {
   "cell_type": "code",
   "execution_count": 2,
   "metadata": {},
   "outputs": [],
   "source": [
    "import pandas as pd\n",
    "import matplotlib.pyplot as plt\n",
    "%matplotlib inline\n",
    "\n",
    "df_08 = pd.read_csv('clean_08.csv')\n",
    "df_18 = pd.read_csv('clean_18.csv')"
   ]
  },
  {
   "cell_type": "code",
   "execution_count": 3,
   "metadata": {},
   "outputs": [
    {
     "data": {
      "text/html": [
       "<div>\n",
       "<style scoped>\n",
       "    .dataframe tbody tr th:only-of-type {\n",
       "        vertical-align: middle;\n",
       "    }\n",
       "\n",
       "    .dataframe tbody tr th {\n",
       "        vertical-align: top;\n",
       "    }\n",
       "\n",
       "    .dataframe thead th {\n",
       "        text-align: right;\n",
       "    }\n",
       "</style>\n",
       "<table border=\"1\" class=\"dataframe\">\n",
       "  <thead>\n",
       "    <tr style=\"text-align: right;\">\n",
       "      <th></th>\n",
       "      <th>model</th>\n",
       "      <th>displ</th>\n",
       "      <th>cyl</th>\n",
       "      <th>trans</th>\n",
       "      <th>drive</th>\n",
       "      <th>fuel</th>\n",
       "      <th>veh_class</th>\n",
       "      <th>air_pollution_score</th>\n",
       "      <th>city_mpg</th>\n",
       "      <th>hwy_mpg</th>\n",
       "      <th>cmb_mpg</th>\n",
       "      <th>greenhouse_gas_score</th>\n",
       "      <th>smartway</th>\n",
       "    </tr>\n",
       "  </thead>\n",
       "  <tbody>\n",
       "    <tr>\n",
       "      <th>0</th>\n",
       "      <td>ACURA MDX</td>\n",
       "      <td>3.7</td>\n",
       "      <td>6</td>\n",
       "      <td>Auto-S5</td>\n",
       "      <td>4WD</td>\n",
       "      <td>Gasoline</td>\n",
       "      <td>SUV</td>\n",
       "      <td>7.0</td>\n",
       "      <td>15.0</td>\n",
       "      <td>20.0</td>\n",
       "      <td>17.0</td>\n",
       "      <td>4</td>\n",
       "      <td>no</td>\n",
       "    </tr>\n",
       "    <tr>\n",
       "      <th>1</th>\n",
       "      <td>ACURA RDX</td>\n",
       "      <td>2.3</td>\n",
       "      <td>4</td>\n",
       "      <td>Auto-S5</td>\n",
       "      <td>4WD</td>\n",
       "      <td>Gasoline</td>\n",
       "      <td>SUV</td>\n",
       "      <td>7.0</td>\n",
       "      <td>17.0</td>\n",
       "      <td>22.0</td>\n",
       "      <td>19.0</td>\n",
       "      <td>5</td>\n",
       "      <td>no</td>\n",
       "    </tr>\n",
       "    <tr>\n",
       "      <th>2</th>\n",
       "      <td>ACURA RL</td>\n",
       "      <td>3.5</td>\n",
       "      <td>6</td>\n",
       "      <td>Auto-S5</td>\n",
       "      <td>4WD</td>\n",
       "      <td>Gasoline</td>\n",
       "      <td>midsize car</td>\n",
       "      <td>7.0</td>\n",
       "      <td>16.0</td>\n",
       "      <td>24.0</td>\n",
       "      <td>19.0</td>\n",
       "      <td>5</td>\n",
       "      <td>no</td>\n",
       "    </tr>\n",
       "    <tr>\n",
       "      <th>3</th>\n",
       "      <td>ACURA TL</td>\n",
       "      <td>3.2</td>\n",
       "      <td>6</td>\n",
       "      <td>Auto-S5</td>\n",
       "      <td>2WD</td>\n",
       "      <td>Gasoline</td>\n",
       "      <td>midsize car</td>\n",
       "      <td>7.0</td>\n",
       "      <td>18.0</td>\n",
       "      <td>26.0</td>\n",
       "      <td>21.0</td>\n",
       "      <td>6</td>\n",
       "      <td>yes</td>\n",
       "    </tr>\n",
       "    <tr>\n",
       "      <th>4</th>\n",
       "      <td>ACURA TL</td>\n",
       "      <td>3.5</td>\n",
       "      <td>6</td>\n",
       "      <td>Auto-S5</td>\n",
       "      <td>2WD</td>\n",
       "      <td>Gasoline</td>\n",
       "      <td>midsize car</td>\n",
       "      <td>7.0</td>\n",
       "      <td>17.0</td>\n",
       "      <td>26.0</td>\n",
       "      <td>20.0</td>\n",
       "      <td>6</td>\n",
       "      <td>yes</td>\n",
       "    </tr>\n",
       "  </tbody>\n",
       "</table>\n",
       "</div>"
      ],
      "text/plain": [
       "       model  displ  cyl    trans drive      fuel    veh_class  \\\n",
       "0  ACURA MDX    3.7    6  Auto-S5   4WD  Gasoline          SUV   \n",
       "1  ACURA RDX    2.3    4  Auto-S5   4WD  Gasoline          SUV   \n",
       "2   ACURA RL    3.5    6  Auto-S5   4WD  Gasoline  midsize car   \n",
       "3   ACURA TL    3.2    6  Auto-S5   2WD  Gasoline  midsize car   \n",
       "4   ACURA TL    3.5    6  Auto-S5   2WD  Gasoline  midsize car   \n",
       "\n",
       "   air_pollution_score  city_mpg  hwy_mpg  cmb_mpg  greenhouse_gas_score  \\\n",
       "0                  7.0      15.0     20.0     17.0                     4   \n",
       "1                  7.0      17.0     22.0     19.0                     5   \n",
       "2                  7.0      16.0     24.0     19.0                     5   \n",
       "3                  7.0      18.0     26.0     21.0                     6   \n",
       "4                  7.0      17.0     26.0     20.0                     6   \n",
       "\n",
       "  smartway  \n",
       "0       no  \n",
       "1       no  \n",
       "2       no  \n",
       "3      yes  \n",
       "4      yes  "
      ]
     },
     "execution_count": 3,
     "metadata": {},
     "output_type": "execute_result"
    }
   ],
   "source": [
    "df_08.head()"
   ]
  },
  {
   "cell_type": "code",
   "execution_count": 18,
   "metadata": {},
   "outputs": [
    {
     "data": {
      "text/html": [
       "<div>\n",
       "<style scoped>\n",
       "    .dataframe tbody tr th:only-of-type {\n",
       "        vertical-align: middle;\n",
       "    }\n",
       "\n",
       "    .dataframe tbody tr th {\n",
       "        vertical-align: top;\n",
       "    }\n",
       "\n",
       "    .dataframe thead th {\n",
       "        text-align: right;\n",
       "    }\n",
       "</style>\n",
       "<table border=\"1\" class=\"dataframe\">\n",
       "  <thead>\n",
       "    <tr style=\"text-align: right;\">\n",
       "      <th></th>\n",
       "      <th>model</th>\n",
       "      <th>displ</th>\n",
       "      <th>cyl</th>\n",
       "      <th>trans</th>\n",
       "      <th>drive</th>\n",
       "      <th>fuel</th>\n",
       "      <th>veh_class</th>\n",
       "      <th>air_pollution_score</th>\n",
       "      <th>city_mpg</th>\n",
       "      <th>hwy_mpg</th>\n",
       "      <th>cmb_mpg</th>\n",
       "      <th>greenhouse_gas_score</th>\n",
       "      <th>smartway</th>\n",
       "    </tr>\n",
       "  </thead>\n",
       "  <tbody>\n",
       "    <tr>\n",
       "      <th>0</th>\n",
       "      <td>ACURA RDX</td>\n",
       "      <td>3.5</td>\n",
       "      <td>6</td>\n",
       "      <td>SemiAuto-6</td>\n",
       "      <td>2WD</td>\n",
       "      <td>Gasoline</td>\n",
       "      <td>small SUV</td>\n",
       "      <td>3.0</td>\n",
       "      <td>20.0</td>\n",
       "      <td>28.0</td>\n",
       "      <td>23.0</td>\n",
       "      <td>5</td>\n",
       "      <td>No</td>\n",
       "    </tr>\n",
       "    <tr>\n",
       "      <th>1</th>\n",
       "      <td>ACURA RDX</td>\n",
       "      <td>3.5</td>\n",
       "      <td>6</td>\n",
       "      <td>SemiAuto-6</td>\n",
       "      <td>4WD</td>\n",
       "      <td>Gasoline</td>\n",
       "      <td>small SUV</td>\n",
       "      <td>3.0</td>\n",
       "      <td>19.0</td>\n",
       "      <td>27.0</td>\n",
       "      <td>22.0</td>\n",
       "      <td>4</td>\n",
       "      <td>No</td>\n",
       "    </tr>\n",
       "    <tr>\n",
       "      <th>2</th>\n",
       "      <td>ACURA TLX</td>\n",
       "      <td>2.4</td>\n",
       "      <td>4</td>\n",
       "      <td>AMS-8</td>\n",
       "      <td>2WD</td>\n",
       "      <td>Gasoline</td>\n",
       "      <td>small car</td>\n",
       "      <td>3.0</td>\n",
       "      <td>23.0</td>\n",
       "      <td>33.0</td>\n",
       "      <td>27.0</td>\n",
       "      <td>6</td>\n",
       "      <td>No</td>\n",
       "    </tr>\n",
       "    <tr>\n",
       "      <th>3</th>\n",
       "      <td>ACURA TLX</td>\n",
       "      <td>3.5</td>\n",
       "      <td>6</td>\n",
       "      <td>SemiAuto-9</td>\n",
       "      <td>2WD</td>\n",
       "      <td>Gasoline</td>\n",
       "      <td>small car</td>\n",
       "      <td>3.0</td>\n",
       "      <td>20.0</td>\n",
       "      <td>32.0</td>\n",
       "      <td>24.0</td>\n",
       "      <td>5</td>\n",
       "      <td>No</td>\n",
       "    </tr>\n",
       "    <tr>\n",
       "      <th>4</th>\n",
       "      <td>ACURA TLX</td>\n",
       "      <td>3.5</td>\n",
       "      <td>6</td>\n",
       "      <td>SemiAuto-9</td>\n",
       "      <td>4WD</td>\n",
       "      <td>Gasoline</td>\n",
       "      <td>small car</td>\n",
       "      <td>3.0</td>\n",
       "      <td>21.0</td>\n",
       "      <td>30.0</td>\n",
       "      <td>24.0</td>\n",
       "      <td>5</td>\n",
       "      <td>No</td>\n",
       "    </tr>\n",
       "  </tbody>\n",
       "</table>\n",
       "</div>"
      ],
      "text/plain": [
       "       model  displ  cyl       trans drive      fuel  veh_class  \\\n",
       "0  ACURA RDX    3.5    6  SemiAuto-6   2WD  Gasoline  small SUV   \n",
       "1  ACURA RDX    3.5    6  SemiAuto-6   4WD  Gasoline  small SUV   \n",
       "2  ACURA TLX    2.4    4       AMS-8   2WD  Gasoline  small car   \n",
       "3  ACURA TLX    3.5    6  SemiAuto-9   2WD  Gasoline  small car   \n",
       "4  ACURA TLX    3.5    6  SemiAuto-9   4WD  Gasoline  small car   \n",
       "\n",
       "   air_pollution_score  city_mpg  hwy_mpg  cmb_mpg  greenhouse_gas_score  \\\n",
       "0                  3.0      20.0     28.0     23.0                     5   \n",
       "1                  3.0      19.0     27.0     22.0                     4   \n",
       "2                  3.0      23.0     33.0     27.0                     6   \n",
       "3                  3.0      20.0     32.0     24.0                     5   \n",
       "4                  3.0      21.0     30.0     24.0                     5   \n",
       "\n",
       "  smartway  \n",
       "0       No  \n",
       "1       No  \n",
       "2       No  \n",
       "3       No  \n",
       "4       No  "
      ]
     },
     "execution_count": 18,
     "metadata": {},
     "output_type": "execute_result"
    }
   ],
   "source": [
    "df_18.head()"
   ]
  },
  {
   "cell_type": "code",
   "execution_count": 6,
   "metadata": {},
   "outputs": [
    {
     "data": {
      "image/png": "[encoded data removed]",
      "text/plain": [
       "<Figure size 432x288 with 1 Axes>"
      ]
     },
     "metadata": {
      "needs_background": "light"
     },
     "output_type": "display_data"
    }
   ],
   "source": [
    "df_08.greenhouse_gas_score.hist();"
   ]
  },
  {
   "cell_type": "code",
   "execution_count": 7,
   "metadata": {},
   "outputs": [
    {
     "data": {
      "image/png": "[encoded data removed]",
      "text/plain": [
       "<Figure size 432x288 with 1 Axes>"
      ]
     },
     "metadata": {
      "needs_background": "light"
     },
     "output_type": "display_data"
    }
   ],
   "source": [
    "df_18.greenhouse_gas_score.hist();"
   ]
  },
  {
   "cell_type": "code",
   "execution_count": 8,
   "metadata": {},
   "outputs": [
    {
     "data": {
      "image/png": "[encoded data removed]",
      "text/plain": [
       "<Figure size 432x288 with 1 Axes>"
      ]
     },
     "metadata": {
      "needs_background": "light"
     },
     "output_type": "display_data"
    }
   ],
   "source": [
    "df_08.cmb_mpg.hist();"
   ]
  },
  {
   "cell_type": "code",
   "execution_count": 9,
   "metadata": {},
   "outputs": [
    {
     "data": {
      "image/png": "[encoded data removed]",
      "text/plain": [
       "<Figure size 432x288 with 1 Axes>"
      ]
     },
     "metadata": {
      "needs_background": "light"
     },
     "output_type": "display_data"
    }
   ],
   "source": [
    "df_18.cmb_mpg.hist();"
   ]
  },
  {
   "cell_type": "code",
   "execution_count": 14,
   "metadata": {},
   "outputs": [
    {
     "data": {
      "image/png": "[encoded data removed]",
      "text/plain": [
       "<Figure size 432x288 with 1 Axes>"
      ]
     },
     "metadata": {
      "needs_background": "light"
     },
     "output_type": "display_data"
    }
   ],
   "source": [
    "df_18.plot(x='displ', y='cmb_mpg', kind='scatter');"
   ]
  },
  {
   "cell_type": "code",
   "execution_count": 17,
   "metadata": {},
   "outputs": [
    {
     "data": {
      "image/png": "[encoded data removed]",
      "text/plain": [
       "<Figure size 432x288 with 1 Axes>"
      ]
     },
     "metadata": {
      "needs_background": "light"
     },
     "output_type": "display_data"
    }
   ],
   "source": [
    "df_18.plot(x='greenhouse_gas_score', y='cmb_mpg', kind='scatter');"
   ]
  },
  {
   "cell_type": "markdown",
   "metadata": {},
   "source": [
    "### Q1: Are more unique models using alternative sources of fuel? By how much?"
   ]
  },
  {
   "cell_type": "code",
   "execution_count": 23,
   "metadata": {},
   "outputs": [
    {
     "data": {
      "text/plain": [
       "array(['ACURA RDX', 'ACURA TLX', 'ACURA TLX AWD A-SPEC',\n",
       "       'ACURA TLX FWD A-SPEC', 'ALFA ROMEO 4C', 'ALFA ROMEO Giulia',\n",
       "       'AUDI A3', 'AUDI A3 Cabriolet', 'AUDI A4', 'AUDI A4 Ultra',\n",
       "       'AUDI A5', 'AUDI A5 Cabriolet', 'AUDI A5 Sportback quattro',\n",
       "       'AUDI A6', 'AUDI A7', 'AUDI A8 L', 'AUDI Q3', 'AUDI Q5', 'AUDI Q7',\n",
       "       'AUDI RS3', 'AUDI S3', 'AUDI S4', 'AUDI S5', 'AUDI S5 Cabriolet',\n",
       "       'AUDI S5 Sportback', 'AUDI SQ5', 'AUDI TT Coupe', 'AUDI TT RS',\n",
       "       'AUDI TT Roadster', 'AUDI TTS Coupe', 'AUDI allroad quattro',\n",
       "       'BENTLEY Bentayga', 'BENTLEY Chiron', 'BMW 230i Convertible',\n",
       "       'BMW 230i Coupe', 'BMW 230i xDrive Convertible',\n",
       "       'BMW 230i xDrive Coupe', 'BMW 320i', 'BMW 330i',\n",
       "       'BMW 330i Gran Turismo', 'BMW 330i Sports Wagon', 'BMW 340i',\n",
       "       'BMW 340i Gran Turismo', 'BMW 430i Convertible', 'BMW 430i Coupe',\n",
       "       'BMW 430i Gran Coupe', 'BMW 440i Convertible', 'BMW 440i Coupe',\n",
       "       'BMW 440i Gran Coupe', 'BMW 530i', 'BMW 540i',\n",
       "       'BMW 640i Convertible', 'BMW 640i Gran Coupe',\n",
       "       'BMW 650i Convertible', 'BMW 650i Gran Coupe', 'BMW 740i',\n",
       "       'BMW 750i', 'BMW Alpina B6 Gran Coupe', 'BMW Alpina B7', 'BMW M2',\n",
       "       'BMW M240i Convertible', 'BMW M240i Coupe', 'BMW M3',\n",
       "       'BMW M4 Convertible', 'BMW M4 Coupe',\n",
       "       'BMW M4 DTM Champions Edition', 'BMW M550i', 'BMW M6 Convertible',\n",
       "       'BMW M6 Gran Coupe', 'BMW M760i xDrive', 'BMW X1 sDrive28i',\n",
       "       'BMW X1 xDrive28i', 'BMW X4 M40i', 'BMW X4 xDrive28i',\n",
       "       'BUICK Encore', 'BUICK Lacrosse', 'CADILLAC ATS', 'CADILLAC ATS-V',\n",
       "       'CADILLAC CT6', 'CADILLAC CTS', 'CADILLAC CTS-V',\n",
       "       'CADILLAC Escalade', 'CADILLAC XT5', 'CHEVROLET Camaro',\n",
       "       'CHEVROLET Colorado', 'CHEVROLET Colorado ZR2',\n",
       "       'CHEVROLET Corvette', 'CHEVROLET Cruze',\n",
       "       'CHEVROLET Cruze Hatchback', 'CHEVROLET Cruze Premier',\n",
       "       'CHEVROLET Cruze Premier Hatchback', 'CHEVROLET Equinox',\n",
       "       'CHEVROLET Impala', 'CHEVROLET Malibu', 'CHEVROLET Silverado 15',\n",
       "       'CHEVROLET Sonic', 'CHEVROLET Sonic 5', 'CHEVROLET Suburban 1500',\n",
       "       'CHEVROLET Tahoe 1500', 'CHEVROLET Traverse', 'CHEVROLET Trax',\n",
       "       'CHRYSLER 300', 'CHRYSLER Pacifica', 'DODGE Challenger',\n",
       "       'DODGE Challenger GT', 'DODGE Challenger SRT', 'DODGE Charger',\n",
       "       'DODGE Charger SRT', 'DODGE Durango', 'DODGE Durango  SRT',\n",
       "       'DODGE Journey', 'FERRARI 488 Spider', 'FERRARI 488 gtb',\n",
       "       'FERRARI 812 Superfast', 'FERRARI California T',\n",
       "       'FERRARI GTC4Lusso', 'FERRARI GTC4Lusso T', 'FIAT 500L',\n",
       "       'FORD F150', 'FORD F150 Raptor', 'FORD Flex', 'FORD Fusion',\n",
       "       'FORD Fusion Hybrid', 'FORD Transit Connect', 'GENESIS G80',\n",
       "       'GENESIS G90', 'GMC Acadia', 'GMC Canyon', 'GMC Sierra 15',\n",
       "       'GMC Terrain', 'GMC Yukon 1500', 'GMC Yukon 1500 XL',\n",
       "       'GMC Yukon XL 1500', 'HONDA Civic 5Dr', 'HONDA Fit', 'HONDA HR-V',\n",
       "       'HONDA Ridgeline', 'HYUNDAI Elantra', 'HYUNDAI Elantra GT',\n",
       "       'HYUNDAI Elantra SE', 'HYUNDAI Santa Fe', 'HYUNDAI Santa Fe Sport',\n",
       "       'HYUNDAI Santa Fe Sport Ultimate', 'HYUNDAI Santa Fe Ultimate',\n",
       "       'HYUNDAI Sonata', 'HYUNDAI Sonata SE', 'INFINITI Q50',\n",
       "       'INFINITI Q50 Hybrid', 'INFINITI Q50 Red Sport', 'INFINITI Q70',\n",
       "       'INFINITI Q70 Hybrid', 'INFINITI QX30', 'JAGUAR F-Pace',\n",
       "       'JAGUAR F-Type Convertible', 'JAGUAR F-Type Coupe',\n",
       "       'JAGUAR F-Type R Convertible', 'JAGUAR F-Type R Coupe',\n",
       "       'JAGUAR F-Type S Convertible', 'JAGUAR F-Type S Coupe',\n",
       "       'JAGUAR XE', 'JAGUAR XF', 'JEEP Cherokee',\n",
       "       'JEEP Cherokee 4x4 Active Drive II', 'JEEP Cherokee Trailhawk',\n",
       "       'JEEP Compass', 'JEEP Grand Cherokee', 'JEEP Grand Cherokee SRT',\n",
       "       'KIA Forte', 'KIA Forte5', 'KIA Optima', 'KIA Optima FE',\n",
       "       'KIA Rio', 'KIA Sedona', 'KIA Sedona SX', 'KIA Sedona SXL',\n",
       "       'KIA Sorento', 'KIA Sorento FE', 'KIA Soul', 'KIA Sportage',\n",
       "       'KIA Sportage FE', 'LAMBORGHINI Aventador Coupe',\n",
       "       'LAMBORGHINI Aventador Roadster', 'LAMBORGHINI Aventador S Coupe',\n",
       "       'LAMBORGHINI Aventador S Roadster', 'LAND ROVER Range Rover Velar',\n",
       "       'LEXUS GX 460', 'LEXUS LC 500', 'LEXUS LC 500h', 'LEXUS LX 570',\n",
       "       'LINCOLN Continental', 'LINCOLN MKT', 'LINCOLN MKT Livery',\n",
       "       'MASERATI Ghibli', 'MASERATI Ghibli S', 'MASERATI Ghibli S Q4',\n",
       "       'MASERATI Granturismo', 'MASERATI Granturismo Convertible',\n",
       "       'MASERATI Levante', 'MASERATI Levante S',\n",
       "       'MASERATI Quattroporte S', 'MASERATI Quattroporte S Q4', 'MAZDA 3',\n",
       "       'MAZDA CX-3', 'MAZDA CX-9', 'MERCEDES-BENZ AMG C63',\n",
       "       'MERCEDES-BENZ AMG C63 S', 'MERCEDES-BENZ AMG CLA45 4Matic',\n",
       "       'MERCEDES-BENZ AMG CLS63 4Matic', 'MERCEDES-BENZ AMG E63 S 4Matic',\n",
       "       'MERCEDES-BENZ AMG GLA45 4Matic',\n",
       "       'MERCEDES-BENZ AMG GLE 43 4Matic', 'MERCEDES-BENZ AMG GLE63',\n",
       "       'MERCEDES-BENZ AMG GLE63 S', 'MERCEDES-BENZ AMG GLS63',\n",
       "       'MERCEDES-BENZ AMG GT', 'MERCEDES-BENZ AMG GT S',\n",
       "       'MERCEDES-BENZ AMG S63 4Matic', 'MERCEDES-BENZ AMG SL63',\n",
       "       'MERCEDES-BENZ AMG SL65', 'MERCEDES-BENZ C300',\n",
       "       'MERCEDES-BENZ C300 4Matic', 'MERCEDES-BENZ CLA250',\n",
       "       'MERCEDES-BENZ CLA250 4Matic', 'MERCEDES-BENZ CLS550',\n",
       "       'MERCEDES-BENZ CLS550 4Matic', 'MERCEDES-BENZ E300',\n",
       "       'MERCEDES-BENZ E300 4Matic', 'MERCEDES-BENZ GLA 250',\n",
       "       'MERCEDES-BENZ GLA250 4Matic', 'MERCEDES-BENZ GLC 300',\n",
       "       'MERCEDES-BENZ GLC 300 4Matic', 'MERCEDES-BENZ GLE350',\n",
       "       'MERCEDES-BENZ GLE350 4Matic', 'MERCEDES-BENZ GLS450 4Matic',\n",
       "       'MERCEDES-BENZ GLS550 4Matic', 'MERCEDES-BENZ S560 4Matic',\n",
       "       'MERCEDES-BENZ S560 4Matic Maybach', 'MERCEDES-BENZ SL550',\n",
       "       'MERCEDES-BENZ SLC300', 'MINI Cooper Clubman',\n",
       "       'MINI Cooper Clubman All4', 'MINI Cooper Convertible',\n",
       "       'MINI Cooper Countryman', 'MINI Cooper Countryman All4',\n",
       "       'MINI Cooper Hardtop', 'MINI Cooper S Clubman',\n",
       "       'MINI Cooper S Clubman All4', 'MINI Cooper S Convertible',\n",
       "       'MINI Cooper S Countryman', 'MINI Cooper S Countryman All4',\n",
       "       'MINI Cooper S Hardtop', 'MINI JCW Countryman All4',\n",
       "       'MINI John Cooper Works Clubman All4',\n",
       "       'MINI John Cooper Works Convertible',\n",
       "       'MINI John Cooper Works Hardtop', 'MITSUBISHI Mirage',\n",
       "       'MITSUBISHI Mirage G4', 'NISSAN 370Z', 'NISSAN 370Z Roadster',\n",
       "       'NISSAN Armada', 'NISSAN Versa', 'PORSCHE 911 Carrera',\n",
       "       'PORSCHE 911 Carrera 4', 'PORSCHE 911 Carrera 4 Cabriolet',\n",
       "       'PORSCHE 911 Carrera 4 GTS', 'PORSCHE 911 Carrera 4 GTS Cabriolet',\n",
       "       'PORSCHE 911 Carrera 4S', 'PORSCHE 911 Carrera 4S Cabriolet',\n",
       "       'PORSCHE 911 Carrera Cabriolet', 'PORSCHE 911 Carrera GTS',\n",
       "       'PORSCHE 911 Carrera GTS Cabriolet', 'PORSCHE 911 Carrera S',\n",
       "       'PORSCHE 911 Carrera S Cabriolet', 'PORSCHE 911 Targa 4',\n",
       "       'PORSCHE 911 Targa 4 GTS', 'PORSCHE 911 Targa 4S',\n",
       "       'PORSCHE 911 Turbo', 'PORSCHE 911 Turbo Cabriolet',\n",
       "       'PORSCHE 911 Turbo S', 'PORSCHE 911 Turbo S Cabriolet',\n",
       "       'PORSCHE Boxster', 'PORSCHE Boxster S', 'PORSCHE Cayenne GTS',\n",
       "       'PORSCHE Cayenne S', 'PORSCHE Macan', 'PORSCHE Macan GTS',\n",
       "       'PORSCHE Macan S', 'PORSCHE Panamera', 'PORSCHE Panamera 4',\n",
       "       'PORSCHE Panamera 4 Executive', 'PORSCHE Panamera 4S',\n",
       "       'PORSCHE Panamera 4S Executive', 'PORSCHE Panamera Turbo',\n",
       "       'PORSCHE Panamera Turbo Executive', 'RAM 1500',\n",
       "       'RAM Promaster City', 'SUBARU Crosstrek', 'SUBARU Forester',\n",
       "       'SUBARU Impreza', 'SUBARU Impreza Sport', 'SUBARU Legacy',\n",
       "       'SUBARU Outback', 'SUBARU WRX', 'TOYOTA 4Runner', 'TOYOTA Avalon',\n",
       "       'TOYOTA Avalon Hybrid', 'TOYOTA C-HR', 'TOYOTA Camry',\n",
       "       'TOYOTA Camry Hybrid LE', 'TOYOTA Camry Hybrid XLE/SE',\n",
       "       'TOYOTA Camry LE/SE', 'TOYOTA Camry XLE/XSE', 'TOYOTA Camry XSE',\n",
       "       'TOYOTA Corolla', 'TOYOTA Corolla LE Eco', 'TOYOTA Corolla iM',\n",
       "       'TOYOTA Land Cruiser', 'TOYOTA Prius c', 'TOYOTA RAV4',\n",
       "       'TOYOTA RAV4 Hybrid', 'TOYOTA RAV4 LE/XLE', 'TOYOTA RAV4 Limited',\n",
       "       'TOYOTA Sequoia', 'TOYOTA Tundra', 'TOYOTA Yaris',\n",
       "       'VOLKSWAGEN Beetle', 'VOLKSWAGEN Beetle Convertible',\n",
       "       'VOLKSWAGEN Beetle Dune', 'VOLKSWAGEN Beetle Dune Convertible',\n",
       "       'VOLKSWAGEN Golf R', 'VOLKSWAGEN Jetta', 'VOLKSWAGEN Passat',\n",
       "       'VOLKSWAGEN Tiguan', 'VOLKSWAGEN Tiguan 4Motion', 'VOLVO Atlas',\n",
       "       'VOLVO Atlas 4Motion', 'VOLVO S60', 'VOLVO S60 CC',\n",
       "       'VOLVO S60 Inscription', 'VOLVO S60 Polestar', 'VOLVO S90',\n",
       "       'VOLVO V60', 'VOLVO V60 CC', 'VOLVO V60 Polestar', 'VOLVO V90',\n",
       "       'VOLVO V90 CC', 'VOLVO XC 60', 'VOLVO XC 90', 'BMW 330e',\n",
       "       'BMW 530e', 'BMW 740e', 'CHEVROLET Volt',\n",
       "       'FORD Fusion Energi Plug-in Hybrid', 'KARMA Revero',\n",
       "       'MINI Cooper SE Countryman All4', 'TOYOTA Sequoia FFV',\n",
       "       'TOYOTA Tundra FFV'], dtype=object)"
      ]
     },
     "execution_count": 23,
     "metadata": {},
     "output_type": "execute_result"
    }
   ],
   "source": [
    "df_18.model.unique()"
   ]
  },
  {
   "cell_type": "code",
   "execution_count": null,
   "metadata": {},
   "outputs": [],
   "source": []
  }
 ],
 "metadata": {
  "kernelspec": {
   "display_name": "Python 3",
   "language": "python",
   "name": "python3"
  },
  "language_info": {
   "codemirror_mode": {
    "name": "ipython",
    "version": 3
   },
   "file_extension": ".py",
   "mimetype": "text/x-python",
   "name": "python",
   "nbconvert_exporter": "python",
   "pygments_lexer": "ipython3",
   "version": "3.7.7"
  }
 },
 "nbformat": 4,
 "nbformat_minor": 4
}
